{
 "cells": [
  {
   "cell_type": "code",
   "execution_count": null,
   "metadata": {},
   "outputs": [],
   "source": [
    "# Load pacakges ----\n",
    "import sys\n",
    "import pandas as pd\n",
    "import numpy as np\n",
    "import matplotlib.pyplot as plt\n",
    "import matplotlib.image as mpimg\n",
    "from pandas.plotting import register_matplotlib_converters\n",
    "register_matplotlib_converters()\n",
    "from IPython.display import HTML\n",
    "from IPython.display import Markdown as md\n",
    "from IPython.core.display import HTML as Center\n",
    "from config import marker, qof_measure_marker, start_date, end_date, demographics, codelist_path\n",
    "from IPython.display import Image, display\n",
    "import base64\n",
    "\n",
    "from utilities import *\n",
    "%matplotlib inline"
   ]
  },
  {
   "cell_type": "markdown",
   "metadata": {},
   "source": [
    "# QOF - Blood Pressure\n",
    "## Indicator: BP002 (Version: 46.0)\n",
    "## Timeframe: 2019-09-01 and 2022-03-31"
   ]
  },
  {
   "cell_type": "markdown",
   "metadata": {},
   "source": [
    "# Content\n",
    "\n",
    "<ul id=\"docNav\">\n",
    "<li> <a href=\"#intro\">Introduction</a>\n",
    "<li> <a href=\"#methods\">Methods</a>\n",
    "    <ul>\n",
    "    <li> <a href=\"#business_rules\">Business rules</a>\n",
    "        <ul>\n",
    "            <li> <a href=\"#business_rules_bp002\">Indicator BP002</a>\n",
    "                <ul>\n",
    "                    <li> <a href=\"#bp002_denominator\">Denominator</a>\n",
    "                    <li> <a href=\"#bp002_numerator\">Numerator</a>\n",
    "                </ul>\n",
    "                <li> <a href=\"#bp002_codelists\">Codelists</a>\n",
    "        </ul>\n",
    "</ul>\n",
    "<li> <a href=\"#results\">Results</a>\n",
    "    <ul>\n",
    "        <li> <a href=\"#results_bp002\">Indicator BP002</a>\n",
    "             <ul>\n",
    "                 <li> <a href=\"#results_bp002_total\">Total</a>\n",
    "                 <li> <a href=\"#results_bp002_var_gp\">Variation across GP practices</a>\n",
    "                 <li> <a href=\"#results_bp002_by_sex\">Breakdown by 'sex'</a>\n",
    "                 <li> <a href=\"#results_bp002_by_age_band\">Breakdown by 'age_band'</a>\n",
    "                 <li> <a href=\"#results_bp002_by_region\">Breakdown by 'region'</a>\n",
    "                 <li> <a href=\"#results_bp002_by_imd\">Breakdown by 'imd'</a>\n",
    "                 <li> <a href=\"#results_bp002_by_ethnicity\">Breakdown by 'ethnicity'</a>\n",
    "                 <li> <a href=\"#results_bp002_by_learning_disability\">Breakdown by 'learning_disability'</a>\n",
    "                 <li> <a href=\"#results_bp002_by_care_home_status\">Breakdown by 'care_home_status'</a>\n",
    "            </ul>\n",
    "    </ul>\n",
    "<li> <a href=\"#discussion\">General discussion</a>\n",
    "<li> <a href=\"#references\">References</a>\n",
    "\n",
    "</ul>"
   ]
  },
  {
   "cell_type": "markdown",
   "metadata": {},
   "source": [
    "<a id=\"intro\"></a>\n",
    "# Introduction\n",
    "\n",
    "General practice has been disrupted by the pandemic in many clinical areas (e.g., [Curtis et al., 2021](https://bjgp.org/content/72/714/e63); [Williamson et al., 2020](https://www.nature.com/articles/s41586-020-2521-4)). \n",
    "We aim to assess the impact of the pandemic on the routine management of blood pressure. \n",
    "High blood pressure is one of the leading risk factors for several diseases (e.g., cardiovascular disease, stroke) worldwide. \n",
    "Research suggests that delays in the management of high blood pressure are associated with worse clinical outcomes, for example acute cardiovascular events, or death ([Xu et al., 2015](https://www.bmj.com/content/350/bmj.h158)).\n",
    "\n",
    "The [Quality and Outcomes Framework (QOF)](https://digital.nhs.uk/data-and-information/data-tools-and-services/data-services/general-practice-data-hub/quality-outcomes-framework-qof) outlines one indicator that focus on blood pressure (BP002). \n",
    "We aim to use OpenSAFELY to quantify the extent to which this indicator was disrupted during the pandemic."
   ]
  },
  {
   "cell_type": "markdown",
   "metadata": {},
   "source": [
    "<a id=\"methods\"></a>\n",
    "# Methods\n",
    "\n",
    "Using OpenSAFELY-TPP, covering 40% of England's population, we have assessed QOF Blood Pressure targets (Indicator: BP002) between 2019-09-01 and 2022-03-31.\n",
    "The codelist used can be found here at [OpenSAFELY Codelists](https://codelists.opensafely.org/).\n",
    "\n",
    "The **study population** for each indicator is defined by the denominator rules shown above.\n",
    "For each month within the study period, we have calculated the percentage of registered patients above 45 years that had their blood pressure recorded in the 5 year period leading up to the month of reporting.\n",
    "All analytical code and output is available for inspection at the [OpenSAFELY GitHub repository](https://github.com/opensafely/blood-pressure-qof)."
   ]
  },
  {
   "cell_type": "markdown",
   "metadata": {},
   "source": [
    "<a id=\"business_rules\"></a>\n",
    "\n",
    "## Business rules\n",
    "\n",
    "The denominator and numerator rules for BP002 (Version: 46.0) are outlined below.\n",
    "Prevalence data is not available for the blood pressure indicator. \n",
    "More details about the rules can be found [here](https://digital.nhs.uk/data-and-information/data-collections-and-data-sets/data-collections/quality-and-outcomes-framework-qof/quality-and-outcome-framework-qof-business-rules/qof-business-rules-v46.0-2021-2022-baseline-release).\n",
    "Dashboards presenting the annual targets of all QOF indicators published by NHSD are available [here](https://digital.nhs.uk/data-and-information/data-tools-and-services/data-services/general-practice-data-hub/quality-outcomes-framework-qof).\n",
    "\n",
    "<a id=\"business_rules_bp002\"></a>\n",
    "\n",
    "### Indicator BP002\n",
    "\n",
    "<a id=\"bp002_denominator\"></a>\n",
    "\n",
    "#### Denominator\n",
    "\n",
    "| Rule number | Rule | Action if true | Action if false | Rule description or comments |\n",
    "|:---|:---|:---|:---|:---| \n",
    "| 1 | If `PAT_AGE` < 45 | Reject | Next rule | Reject patients from the specified population who are aged less than 45 years old. |\n",
    "| 2 | If `BP_DAT` > (`PPED` – 5 years) | Select | Next rule | Select patients passed to this rule who had their blood pressure recorded in the 5 year period leading up to and including the payment period end date. |\n",
    "| 3 | If `BPDEC_DAT` > (`PPED` – 5 years)  | Reject | Next rule | Reject patients passed to this rule chose not to have their blood pressure recorded in the 5 year period leading up to and including the payment period end date. |\n",
    "| 4 | If `REG_DAT` > (`PPED` – 3 months) | Reject | Select | Reject patients passed to this rule who registered with the GP practice in the 3 month period leading up to and including the payment period end date. |\n",
    "\n",
    "<a id=\"bp002_numerator\"></a>\n",
    "\n",
    "#### Numerator\n",
    "\n",
    "| Rule number | Rule | Action if true | Action if false | Rule description or comments |\n",
    "|:---|:---|:---|:---|:---| \n",
    "| 1 | If `BP_DAT` > (`PPED` – 5 years) | Select | Reject | Select patients from the denominator who had their blood pressure recorded in the 5 year period leading up to and including the payment period end date. Reject the remaining patients. |\n",
    "\n",
    "<a id=\"codelists\"></a>\n",
    "\n",
    "## Codelists\n",
    "\n",
    "### NHSD Primary Care Domain Refsets \n",
    "\n",
    "Following the QOF business rules for blood pressure (v47) the clinical code clusters below were used.\n",
    "Further information about the business rules and codelists can be found [here](https://content.digital.nhs.uk/qofesextractspecs) or using the hyperlinks of the cluster names in the table below.\n",
    "\n",
    "| Cluster name | Description | SNOMED CT |\n",
    "|:---|:---|:---|\n",
    "| [BP_COD](https://www.opencodelists.org/codelist/nhsd-primary-care-domain-refsets/bp_cod/20200812/) | Blood pressure (BP) recording codes | ^999012731000230108 |\n",
    "| [BPDEC_COD](https://www.opencodelists.org/codelist/nhsd-primary-care-domain-refsets/bpdec_cod/20200812/) | Codes indicating the patient has chosen not to have blood pressure procedure | ^999012611000230106 |\n",
    "\n",
    "Futher studies looking at blood pressure may also need to investigate home blood pressure management (see [HOMEBP_COD](https://www.opencodelists.org/codelist/nhsd-primary-care-domain-refsets/homebp_cod/20200812/) and [HOMEBPDEC_COD](https://www.opencodelists.org/codelist/nhsd-primary-care-domain-refsets/homebpdec_cod/20211221/)).\n",
    "\n",
    "### Codelists used for breakdowns\n",
    "\n",
    "The following codelists are used for breakdowns of indicators.\n",
    "\n",
    "| Codelist name | Description | Coding system |\n",
    "|:---|:---|:---|\n",
    "| [Ethnicity](https://www.opencodelists.org/codelist/opensafely/ethnicity/2020-04-27) | A list of ethnicity codes in use in UK general practice including aggregate grouping at two levels (6 and 16). | CTV3 |\n",
    "| [NHS England Care Homes residential status](https://www.opencodelists.org/codelist/opensafely/nhs-england-care-homes-residential-status/3712ef13) | This codelists supports analysis of records of people who may reside in a nursing or care home. | SNOMED CT |\n",
    "| [Learning disabilities](https://www.opencodelists.org/codelist/opensafely/learning-disabilities/2020-07-06) | The following codes are used to indicate learning disability. | CTV3 |\n",
    "\n",
    "\n"
   ]
  },
  {
   "cell_type": "markdown",
   "metadata": {},
   "source": [
    "<a id=\"results\"></a>\n",
    "# Results\n",
    "\n",
    "PLACEHOLDER FOR ANNUAL RESULTS.\n",
    "Dashboards presenting the annual targets of all QOF indicators published by NHSD are available [here](https://digital.nhs.uk/data-and-information/data-tools-and-services/data-services/general-practice-data-hub/quality-outcomes-framework-qof).\n",
    "\n",
    "<a id=\"results_bp002\"></a>\n",
    "## Indicator BP002"
   ]
  },
  {
   "cell_type": "code",
   "execution_count": null,
   "metadata": {},
   "outputs": [],
   "source": [
    "codelist = pd.read_csv(f'../{codelist_path}')\n",
    "\n",
    "image_paths = {d: f'../output/plot_{d}.png' for d in demographics}\n",
    "image_paths['total'] = '../output/plot_total.png'"
   ]
  },
  {
   "cell_type": "markdown",
   "metadata": {},
   "source": [
    "<a id=\"results_bp002_total\"></a>\n",
    "\n",
    "### Percentage of patients above 45 years that had their blood pressure recorded in the last 5 years"
   ]
  },
  {
   "cell_type": "code",
   "execution_count": null,
   "metadata": {},
   "outputs": [],
   "source": [
    "Image(filename=image_paths['total'])"
   ]
  },
  {
   "cell_type": "markdown",
   "metadata": {},
   "source": [
    "<a id=\"results_bp002_var_gp\"></a>\n",
    "### Total Number by GP Practice"
   ]
  },
  {
   "cell_type": "code",
   "execution_count": null,
   "metadata": {},
   "outputs": [],
   "source": [
    "practice_table = pd.read_csv('../output/rate_table_practice.csv', parse_dates=['date']).sort_values(by='date')\n",
    "percentage_practices = get_percentage_practices(practice_table)\n",
    "md(f\"Percentage of practices with a recording of a code within the [BP_COD](https://www.opencodelists.org/codelist/nhsd-primary-care-domain-refsets/bp_cod/20200812/) codelist during the study period: {percentage_practices}%\")"
   ]
  },
  {
   "cell_type": "markdown",
   "metadata": {},
   "source": [
    "### Percentage of patients above 45 years that had their blood pressure recorded in the last 5 years across GP practices\n",
    "<!-- Description of indicator BP002 -->"
   ]
  },
  {
   "cell_type": "code",
   "execution_count": null,
   "metadata": {},
   "outputs": [],
   "source": [
    "Image(filename='../output/decile_chart.png')"
   ]
  },
  {
   "cell_type": "markdown",
   "metadata": {},
   "source": [
    "<a id=\"results_bp002_by_sex\"></a>\n",
    "### Breakdown of BP002 by sex"
   ]
  },
  {
   "cell_type": "code",
   "execution_count": null,
   "metadata": {},
   "outputs": [],
   "source": [
    "Image(filename=image_paths[demographics[0]])"
   ]
  },
  {
   "cell_type": "markdown",
   "metadata": {},
   "source": [
    "<a id=\"results_bp002_by_age_band\"></a>\n",
    "### Breakdown of BP002 by age band"
   ]
  },
  {
   "cell_type": "code",
   "execution_count": null,
   "metadata": {},
   "outputs": [],
   "source": [
    "Image(filename=image_paths[demographics[1]])"
   ]
  },
  {
   "cell_type": "markdown",
   "metadata": {},
   "source": [
    "<a id=\"results_bp002_by_region\"></a>\n",
    "\n",
    "### Breakdown of BP002 by 'region'"
   ]
  },
  {
   "cell_type": "code",
   "execution_count": null,
   "metadata": {},
   "outputs": [],
   "source": [
    "Image(filename=image_paths[demographics[2]])"
   ]
  },
  {
   "cell_type": "markdown",
   "metadata": {},
   "source": [
    "<a id=\"results_bp002_by_imd\"></a>\n",
    "\n",
    "### Breakdown of BP002 by IMD decile"
   ]
  },
  {
   "cell_type": "code",
   "execution_count": null,
   "metadata": {},
   "outputs": [],
   "source": [
    "Image(filename=image_paths[demographics[3]])"
   ]
  },
  {
   "cell_type": "markdown",
   "metadata": {},
   "source": [
    "<a id=\"results_bp002_by_ethnicity\"></a>\n",
    "\n",
    "### Breakdown of BP002 by ethnicity"
   ]
  },
  {
   "cell_type": "code",
   "execution_count": null,
   "metadata": {},
   "outputs": [],
   "source": [
    "Image(filename=image_paths[demographics[4]])"
   ]
  },
  {
   "cell_type": "markdown",
   "metadata": {},
   "source": [
    "<a id=\"results_bp002_by_learning_disability\"></a>\n",
    "\n",
    "### Breakdown of BP002 by learning disability\n"
   ]
  },
  {
   "cell_type": "code",
   "execution_count": null,
   "metadata": {},
   "outputs": [],
   "source": [
    "display(Image(filename=image_paths[demographics[5]]))"
   ]
  },
  {
   "cell_type": "markdown",
   "metadata": {},
   "source": [
    "<a id=\"results_bp002_by_care_home_status\"></a>\n",
    "\n",
    "### Breakdown of BP002 by NHS care home status"
   ]
  },
  {
   "cell_type": "code",
   "execution_count": null,
   "metadata": {},
   "outputs": [],
   "source": [
    "Image(filename=image_paths[demographics[6]]) "
   ]
  },
  {
   "cell_type": "markdown",
   "metadata": {},
   "source": [
    "<a id=\"discussion\"></a>\n",
    "# General discussion\n",
    "\n",
    "- TODO Comparison with published yearly results\n",
    "- TODO Comment on trend over time in total numbers\n",
    "- TODO Observed impact of the pandemic on QOF indicators (register)\n",
    "- TODO Comment on variation in prevalence/indicator across GP practices for latest month\n",
    "- TODO Comment on variation in prevalence/indicator across GP practices over time\n",
    "- TODO Comment on differences by subgroups (sex, ethnicity, LD, care home etc.)  - trend over time variation or general difference between subgroups. \n",
    "- TODO Standardisation?\n",
    "- TODO If there have been changes in the methodology/business rules in the last couple of years (not further than 3 years) then we could comment here\n",
    "- TODO Our study has reported a prevalence of XXXX for asthma in [month-year] in the OpenSAFELY-TPP TRE, compared to XXX in the publicly available QOF data for 2020/21 across 96.7% of practices. \n"
   ]
  },
  {
   "cell_type": "markdown",
   "metadata": {},
   "source": [
    "<a id=\"references\"></a>\n",
    "# References \n",
    "\n",
    "1. Curtis HJ, MacKenna B, Croker R, Inglesby P, Walker AJ, Morley J, et al. OpenSAFELY NHS Service Restoration Observatory 1: describing trends and variation in primary care clinical activity for 23.3 million patients in England during the first wave of COVID-19. Br J Gen Pract [Internet]. 2021 Sep 20 [cited 2021 Oct 5]; Available from: https://bjgp.org/content/early/2021/09/24/BJGP.2021.0380\n",
    "1. Williamson EJ, Walker AJ, Bhaskaran K, Bacon S, Bates C, Morton CE, et al. Factors associated with COVID-19-related death using OpenSAFELY. Nature. 2020 Aug;584(7821):430–6. https://www.nature.com/articles/s41586-020-2521-4\n",
    "1. Xu W, Goldberg SI, Shubina M, Turchin A. Optimal systolic blood pressure target, time to intensification, and time to follow-up in treatment of hypertension: population based retrospective cohort study. BMJ. 2015 Feb 5;350:h158. https://www.bmj.com/content/350/bmj.h158\n",
    "\n"
   ]
  }
 ],
 "metadata": {
  "interpreter": {
   "hash": "7bd24221210b71a8cbd43ce3494fa14476e540778e4e1f7a960f904f1b7deb3e"
  },
  "kernelspec": {
   "display_name": "Python 3",
   "language": "python",
   "name": "python3"
  },
  "language_info": {
   "codemirror_mode": {
    "name": "ipython",
    "version": 3
   },
   "file_extension": ".py",
   "mimetype": "text/x-python",
   "name": "python",
   "nbconvert_exporter": "python",
   "pygments_lexer": "ipython3",
   "version": "3.9.7"
  }
 },
 "nbformat": 4,
 "nbformat_minor": 4
}
