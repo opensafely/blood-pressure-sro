{
 "cells": [
  {
   "cell_type": "code",
   "execution_count": null,
   "metadata": {},
   "outputs": [],
   "source": [
    "import sys\n",
    "import pandas as pd\n",
    "import numpy as np\n",
    "import matplotlib.pyplot as plt\n",
    "from pandas.plotting import register_matplotlib_converters\n",
    "register_matplotlib_converters()\n",
    "from IPython.display import HTML\n",
    "from IPython.display import Markdown as md\n",
    "from IPython.core.display import HTML as Center\n",
    "from config import marker, start_date, end_date, demographics, codelist_path\n",
    "from IPython.display import Image, display\n",
    "from utilities import *\n",
    "%matplotlib inline\n",
    "\n"
   ]
  },
  {
   "cell_type": "code",
   "execution_count": null,
   "metadata": {},
   "outputs": [],
   "source": [
    "display(\n",
    "md(\"# Service Restoration Observatory\"),\n",
    "md(f\"## Changes in {marker} between {start_date} and {end_date}\"),\n",
    "md(f\"Below are various time-series graphs showing changes in {marker} code use.\"),\n",
    ")\n"
   ]
  },
  {
   "cell_type": "code",
   "execution_count": null,
   "metadata": {},
   "outputs": [],
   "source": [
    "display(\n",
    "md(\"### Methods\"),\n",
    "md(f\"Using OpenSAFELY-TPP, covering 40% of England's population, we have assessed coding activity related to {marker} between {start_date} and {end_date}. The codelist used can be found here at [OpenSAFELY Codelists](https://codelists.opensafely.org/).  For each month within the study period, we have calculated the rate at which the code was recorded per 1000 registered patients.\"),\n",
    "md(f\"All analytical code and output is available for inspection at the [OpenSAFELY GitHub repository](https://github.com/opensafely)\")\n",
    ")\n"
   ]
  },
  {
   "cell_type": "code",
   "execution_count": null,
   "metadata": {},
   "outputs": [],
   "source": [
    "codelist = pd.read_csv(f'../{codelist_path}')\n",
    "\n",
    "image_paths = {d: f'../output/plot_{d}.png' for d in demographics}\n",
    "image_paths['total'] = '../output/plot_total.png'\n"
   ]
  },
  {
   "cell_type": "code",
   "execution_count": null,
   "metadata": {},
   "outputs": [],
   "source": [
    "display(\n",
    "md(f\"## Total {marker} Number\")\n",
    ")\n"
   ]
  },
  {
   "cell_type": "code",
   "execution_count": null,
   "metadata": {},
   "outputs": [],
   "source": [
    "display(Image(filename=image_paths['total']))\n"
   ]
  },
  {
   "cell_type": "code",
   "execution_count": null,
   "metadata": {},
   "outputs": [],
   "source": [
    "display(\n",
    "md(\"### Sub totals by sub codes\"),\n",
    "md(\"Events for the top 5 subcodes across the study period\"))\n",
    "\n",
    "child_table = pd.read_csv('../output/child_code_table.csv')\n",
    "child_table\n",
    "    "
   ]
  },
  {
   "cell_type": "code",
   "execution_count": null,
   "metadata": {},
   "outputs": [],
   "source": [
    "display(\n",
    "md(\"## Total Number by GP Practice\")\n",
    ")\n"
   ]
  },
  {
   "cell_type": "code",
   "execution_count": null,
   "metadata": {},
   "outputs": [],
   "source": [
    "\n",
    "practice_table = pd.read_csv('../output/rate_table_practice.csv', parse_dates=['date']).sort_values(by='date')\n",
    "percentage_practices = get_percentage_practices(practice_table)\n",
    "md(f\"Percentage of practices with a recording of a code within the codelist during the study period: {percentage_practices}%\")\n",
    "display(Image(filename='../output/decile_chart.png'))\n"
   ]
  },
  {
   "cell_type": "code",
   "execution_count": null,
   "metadata": {},
   "outputs": [],
   "source": [
    "i=0\n"
   ]
  },
  {
   "cell_type": "code",
   "execution_count": null,
   "metadata": {},
   "outputs": [],
   "source": [
    "    display(\n",
    "    md(f\"## Breakdown by {demographics[i]}\")\n",
    "    )\n",
    "   \n",
    "    "
   ]
  },
  {
   "cell_type": "code",
   "execution_count": null,
   "metadata": {},
   "outputs": [],
   "source": [
    "    display(Image(filename=image_paths[demographics[i]]))\n",
    "    i+=1\n",
    "    "
   ]
  },
  {
   "cell_type": "code",
   "execution_count": null,
   "metadata": {},
   "outputs": [],
   "source": [
    "    display(\n",
    "    md(f\"## Breakdown by {demographics[i]}\")\n",
    "    )\n",
    "   \n",
    "    "
   ]
  },
  {
   "cell_type": "code",
   "execution_count": null,
   "metadata": {},
   "outputs": [],
   "source": [
    "    display(Image(filename=image_paths[demographics[i]]))\n",
    "    i+=1\n",
    "    "
   ]
  },
  {
   "cell_type": "code",
   "execution_count": null,
   "metadata": {},
   "outputs": [],
   "source": [
    "    display(\n",
    "    md(f\"## Breakdown by {demographics[i]}\")\n",
    "    )\n",
    "   \n",
    "    "
   ]
  },
  {
   "cell_type": "code",
   "execution_count": null,
   "metadata": {},
   "outputs": [],
   "source": [
    "    display(Image(filename=image_paths[demographics[i]]))\n",
    "    i+=1\n",
    "    "
   ]
  },
  {
   "cell_type": "code",
   "execution_count": null,
   "metadata": {},
   "outputs": [],
   "source": [
    "    display(\n",
    "    md(f\"## Breakdown by {demographics[i]}\")\n",
    "    )\n",
    "   \n",
    "    "
   ]
  },
  {
   "cell_type": "code",
   "execution_count": null,
   "metadata": {},
   "outputs": [],
   "source": [
    "    display(Image(filename=image_paths[demographics[i]]))\n",
    "    i+=1\n",
    "    "
   ]
  },
  {
   "cell_type": "code",
   "execution_count": null,
   "metadata": {},
   "outputs": [],
   "source": [
    "    display(\n",
    "    md(f\"## Breakdown by {demographics[i]}\")\n",
    "    )\n",
    "   \n",
    "    "
   ]
  },
  {
   "cell_type": "code",
   "execution_count": null,
   "metadata": {},
   "outputs": [],
   "source": [
    "    display(Image(filename=image_paths[demographics[i]]))\n",
    "    i+=1\n",
    "    "
   ]
  },
  {
   "cell_type": "code",
   "execution_count": null,
   "metadata": {},
   "outputs": [],
   "source": [
    "    display(\n",
    "    md(f\"## Breakdown by {demographics[i]}\")\n",
    "    )\n",
    "   \n",
    "    "
   ]
  },
  {
   "cell_type": "code",
   "execution_count": null,
   "metadata": {},
   "outputs": [],
   "source": [
    "    display(Image(filename=image_paths[demographics[i]]))\n",
    "    i+=1\n",
    "    "
   ]
  },
  {
   "cell_type": "code",
   "execution_count": null,
   "metadata": {},
   "outputs": [],
   "source": [
    "    display(\n",
    "    md(f\"## Breakdown by {demographics[i]}\")\n",
    "    )\n",
    "   \n",
    "    "
   ]
  },
  {
   "cell_type": "code",
   "execution_count": null,
   "metadata": {},
   "outputs": [],
   "source": [
    "    display(Image(filename=image_paths[demographics[i]]))\n",
    "    i+=1\n",
    "    "
   ]
  }
 ],
 "metadata": {
  "interpreter": {
   "hash": "7bd24221210b71a8cbd43ce3494fa14476e540778e4e1f7a960f904f1b7deb3e"
  },
  "kernelspec": {
   "display_name": "Python 3.9.7 64-bit ('opensafely': conda)",
   "language": "python",
   "name": "python3"
  },
  "language_info": {
   "name": "python",
   "version": "3.9.7"
  }
 },
 "nbformat": 4,
 "nbformat_minor": 4
}
